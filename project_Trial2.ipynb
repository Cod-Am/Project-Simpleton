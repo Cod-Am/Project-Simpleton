{
 "cells": [
  {
   "cell_type": "code",
   "execution_count": 1,
   "metadata": {},
   "outputs": [],
   "source": [
    "import numpy as np\n",
    "import pandas as pd\n",
    "import matplotlib.pyplot as plt\n",
    "import tensorflow as tf"
   ]
  },
  {
   "cell_type": "code",
   "execution_count": 17,
   "metadata": {},
   "outputs": [],
   "source": [
    "with open(\"The Tin Woodman of OZ.txt\" , \"r\" , encoding=\"utf-8\") as book:\n",
    "    text = book.read()\n",
    "text_vectorization_layer = tf.keras.layers.TextVectorization(split = 'character' , standardize='lower')\n",
    "text_vectorization_layer.adapt([text])\n",
    "encoded = text_vectorization_layer([text])[0]"
   ]
  },
  {
   "cell_type": "code",
   "execution_count": 18,
   "metadata": {},
   "outputs": [],
   "source": [
    "encoded -= 2\n",
    "n_tokens = text_vectorization_layer.vocabulary_size() - 2\n",
    "dataset_size = len(encoded)"
   ]
  },
  {
   "cell_type": "code",
   "execution_count": null,
   "metadata": {},
   "outputs": [],
   "source": [
    "def to_dataset(sequence , length , shuffle = False , seed = None , batch_size = 32):\n",
    "    ds = tf.data.Dataset.from_tensor_slices(sequence)\n",
    "    ds.window(length + 1 , shift = 1 , drop_remainder = True)\n",
    "    ds.flat_map(lambda window_ds : window_ds.batch(length + 1))\n",
    "    if shuffle:\n",
    "        ds = ds.shuffle(buffer_size = 100_000 , seed = seed)\n",
    "    ds = ds.batch(batch_size)\n",
    "    return ds.map(lambda window : (window[:,:-1] , window[:,1:]))"
   ]
  }
 ],
 "metadata": {
  "kernelspec": {
   "display_name": "project_simpleton",
   "language": "python",
   "name": "python3"
  },
  "language_info": {
   "codemirror_mode": {
    "name": "ipython",
    "version": 3
   },
   "file_extension": ".py",
   "mimetype": "text/x-python",
   "name": "python",
   "nbconvert_exporter": "python",
   "pygments_lexer": "ipython3",
   "version": "3.10.8"
  }
 },
 "nbformat": 4,
 "nbformat_minor": 2
}
